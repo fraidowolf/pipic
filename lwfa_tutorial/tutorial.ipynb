{
 "cells": [
  {
   "cell_type": "code",
   "execution_count": null,
   "id": "2b0f6377",
   "metadata": {},
   "outputs": [],
   "source": [
    "import h5py\n",
    "import numpy as np\n",
    "import matplotlib.pyplot as plt\n",
    "from pipic import consts,types\n",
    "from ipywidgets import interact"
   ]
  },
  {
   "cell_type": "markdown",
   "id": "ce938a34",
   "metadata": {},
   "source": [
    "## Downloading and running the code"
   ]
  },
  {
   "cell_type": "markdown",
   "id": "14360aa3",
   "metadata": {},
   "source": [
    "### Download\n",
    "- git fetch origin \n",
    "- git branch -v -a \n",
    "- git checkout -b lwfa_tutorial origin/lwfa_tutorial\n",
    "\n",
    "### install\n",
    "in pipic directory: \n",
    "- rm -r build \n",
    "- pip uninstall pipic \n",
    "- python -m pip install . \n",
    "- pip install h5py' or 'conda install h5py'\n",
    "- optional: 'pip install ipywidgets'\n",
    "\n",
    "### run script\n",
    "in lwfa_tutorial: \n",
    "- python lwfa_z.py\n",
    "\n",
    "### Copy data from koios\n",
    "- scp <username>@koios.fy.chalmers.se:/home/frida/Desktop/pipic/lwfa_tutorial/data.h5 ./\n",
    "- scp -r <username>@koios.fy.chalmers.se:/home/frida/Desktop/pipic/lwfa_tutorial/1d ./"
   ]
  },
  {
   "cell_type": "markdown",
   "id": "b4f65b23",
   "metadata": {},
   "source": [
    "# Laser wakefield acceleration "
   ]
  },
  {
   "cell_type": "markdown",
   "id": "2108ef08",
   "metadata": {},
   "source": [
    "## Introduction"
   ]
  },
  {
   "cell_type": "markdown",
   "id": "1dd49ca6",
   "metadata": {},
   "source": [
    "### Ponderomotive force"
   ]
  },
  {
   "cell_type": "markdown",
   "id": "517e7598",
   "metadata": {},
   "source": [
    "Electron fluid momentum equation (cold limit):\n",
    "$$\\frac{d \\vec{p}}{dt}=-q[\\vec{E}+\\frac{\\vec{v}\\times\\vec{B}}{c}]$$\n",
    "\n",
    "with $d/dt=\\partial/\\partial t+\\vec{v}\\cdot\\nabla$, $\\vec{E}=-\\frac{1}{c}\\frac{\\partial \\vec{A}}{\\partial t}$, $\\vec{B}=\\nabla\\times\\vec{A}$ with $\\vec{A}=A_0(z)cos(kz+\\omega t)$ where A_0 is slowly varying with z.\n",
    "\n",
    "Assume that $\\vec{p}$ can be split into one fast varying and one slow varying part: $\\vec{p}=\\vec{p_f}+\\vec{p_s}$. Also assume that the fast varying component will act as if there is no change in $A_0$. i.e $\\frac{\\partial\\vec{p_f}}{\\partial t}= -qE=\\frac{q}{c}\\frac{\\partial \\vec{A}}{\\partial t}\\rightarrow\\vec{p_f}=\\frac{q}{c}\\vec{A} $ and insert in the fluid momentum eq:\n",
    "\n",
    "$$\n",
    "\\frac{d\\vec{p_s}+\\vec{p_f}}{dt}= \\frac{\\partial\\vec{p_s}}{\\partial t}+\\frac{d\\vec{p_f}}{dt}+\\frac{\\vec{p_f}}{m_e}\\cdot\\nabla{p_f}+\\frac{\\vec{p_s}}{m_e}\\cdot\\nabla{p_f} + \\frac{\\vec{p_f}}{m_e}\\cdot\\nabla{p_s} = -q[\\vec{E}+\\frac{(\\vec{p_f}+\\vec{p_s})\\times\\vec{B}}{m_ec}]\n",
    "$$\n",
    "\n",
    "subtract $\\frac{\\partial\\vec{p_f}}{\\partial t}= -qE$ and discard that goes like $\\vec{p_s},\\nabla p_s$ - they will be small (at least on longer timescales).\n",
    "\n",
    "$$\n",
    "\\frac{d\\vec{p_s}}{dt} = - \\frac{\\vec{p_f}}{m_e}\\cdot\\nabla{p_f}-q\\frac{\\vec{p_f}}{cm_e}\\times(\\nabla\\times\\vec{A})\n",
    "$$\n",
    "Inserting the expression for $\\vec{p_f}$\n",
    "$$\n",
    "\\frac{d\\vec{p_s}}{dt} = -\\frac{q^{2}}{2c^{2}m_e}\\nabla A^{2}\n",
    "$$\n",
    "since $<A^2>\\approx A_0^{2}$ on longer timescales and $A_0^2\\propto I$ The ponderomotive force can be seen as a radiation preassure. "
   ]
  },
  {
   "cell_type": "markdown",
   "id": "2513581b",
   "metadata": {},
   "source": [
    "### Linear and non-linear regime"
   ]
  },
  {
   "cell_type": "markdown",
   "id": "4687840a",
   "metadata": {},
   "source": [
    "\n",
    "To differentiate the regimes with relativistic and non-relativistic motions, (also linear and non-linear regime) we introduce $a_0=Am_e/c^{2}q$. In the linear regime $p_i=\\frac{q}{c}A_i$, where $i$ is one of the transverse directions. Therefore the velocity can be estimated as $v_i=ca_0$. If $a_0=1$ the velocity is the speed of light which obviously is non-physical and an relativistic description of the system is needed, on the other hand if $a_0<<1$ then the non-relativistic assumptions can be considered valid. \n",
    "\n",
    "$$\n",
    "a_0 << 1 : \\text{linear/non-relativistic} \\\\\n",
    "a_0 = 1 : \\text{non-linear/non-relativistic} \\\\\n",
    "a_0 >> 1 : \\text{very non-linear/non-relativistic}\n",
    "$$\n",
    "\n",
    "How does this affect the wake formation?"
   ]
  },
  {
   "cell_type": "code",
   "execution_count": null,
   "id": "4a48277b",
   "metadata": {},
   "outputs": [],
   "source": [
    "cp = 50\n",
    "s = 8000\n",
    "ncp = s//cp\n",
    "n0 = 8e18\n",
    "omega_p = np.sqrt(np.pi*4*consts.electron_charge**2*n0/consts.electron_mass) # [1/s]\n",
    "wp = 2*np.pi*consts.light_velocity/omega_p\n",
    "\n",
    "with h5py.File(\"1d/lwfa_1d_a01.h5\",\"r\") as file:\n",
    "    Exa1 = file['Ex'][:]\n",
    "    rhoa1 = file['rho'][:]\n",
    "    x_axis = file['x_axis'][:]\n",
    "\n",
    "\n",
    "\n",
    "with h5py.File(\"1d/lwfa_1d_a010.h5\",\"r\") as file:\n",
    "    Exa10 = file['Ex'][:]\n",
    "    rhoa10 = file['rho'][:]\n",
    "    \n",
    "\n",
    "with h5py.File(\"1d/lwfa_1d_a00,1.h5\",\"r\") as file:\n",
    "    Exa01 = file['Ex'][:]\n",
    "    rhoa01 = file['rho'][:]\n",
    "    \n",
    "    "
   ]
  },
  {
   "cell_type": "code",
   "execution_count": null,
   "id": "def92a38",
   "metadata": {},
   "outputs": [],
   "source": [
    "fig,ax = plt.subplots(3,1)\n",
    "i = 10\n",
    "#plt.plot(Ez[50])\n",
    "ax[0].set_title('$a_0=0.1$')\n",
    "ax[0].plot(x_axis/wp,-Exa01[59],'r')\n",
    "a = ax[0].twinx()\n",
    "a.plot(x_axis/wp,rhoa01[59])\n",
    "ax[0].set_ylabel(r'E (statV/cm)')\n",
    "a.set_ylabel(r'$n_e\\,(1/cm^{3})$')\n",
    "\n",
    "ax[1].set_title('$a_0=1$')\n",
    "ax[1].plot(x_axis/wp,-Exa1[59],'r')\n",
    "a = ax[1].twinx()\n",
    "a.plot(x_axis/wp,rhoa1[59])\n",
    "ax[1].set_ylabel(r'E (statV/cm)')\n",
    "a.set_ylabel(r'$n_e\\,(1/cm^{3})$')\n",
    "\n",
    "ax[2].set_title('$a_0=10$')\n",
    "ax[2].plot(x_axis/wp,-Exa10[59],'r')\n",
    "a = ax[2].twinx()\n",
    "a.plot(x_axis/wp,rhoa10[59])\n",
    "ax[2].set_ylabel(r'E (statV/cm)')\n",
    "a.set_ylabel(r'$n_e\\,(1/cm^{3})$')\n",
    "\n",
    "ax[2].set_xlabel(r'$\\lambda_p$')\n",
    "\n",
    "fig.tight_layout()"
   ]
  },
  {
   "cell_type": "markdown",
   "id": "8818725b",
   "metadata": {},
   "source": [
    "### Injection - density downramp and shock-front injection"
   ]
  },
  {
   "cell_type": "markdown",
   "id": "09bc947d",
   "metadata": {},
   "source": [
    "Review paper LWFA:\n",
    "https://journals.aps.org/rmp/pdf/10.1103/RevModPhys.81.1229 \n",
    "\n",
    "Shock-front injection:\n",
    "https://journals.aps.org/prab/pdf/10.1103/PhysRevAccelBeams.20.051301"
   ]
  },
  {
   "cell_type": "markdown",
   "id": "47128f29",
   "metadata": {},
   "source": [
    "## Simulation"
   ]
  },
  {
   "cell_type": "code",
   "execution_count": null,
   "id": "5181d582",
   "metadata": {},
   "outputs": [],
   "source": [
    "cp = 50\n",
    "s = 8000\n",
    "ncp = s//cp\n",
    "# Electron number density\n",
    "n0 = 4e18 #1e18 # [1/cm^3]\n",
    "# plasma frequency, [e] = statC, [me] = g, [n0] = 1/cm^3, [c] = cm/s\n",
    "omega_p = np.sqrt(np.pi*4*consts.electron_charge**2*n0/consts.electron_mass) # [1/s]\n",
    "# plasma wavelength\n",
    "wp = 2*np.pi*consts.light_velocity/omega_p # [cm]\n",
    "# laser wavelength\n",
    "wl = 1e-4 # [cm]\n",
    "# laser pulse width (spatial in x and radially in focus)\n",
    "pulseDuration_FWHM = 16e-15\n",
    "pulseWidth_x = (pulseDuration_FWHM/2.355)*consts.light_velocity # [cm]\n",
    "spotsize = 2*pulseWidth_x\n",
    "omega = 2*np.pi*consts.light_velocity/wl\n",
    "\n",
    "timestep = 1e-1/(2*np.pi*consts.light_velocity/wl) \n",
    "\n",
    "\n",
    "with h5py.File(\"data.h5\",\"r\") as file: \n",
    "    \n",
    "    Ez = file['Ez'][:]\n",
    "    Ex = file['Ex'][:]\n",
    "    Ey = file['Ey'][:]\n",
    "\n",
    "    rho = file['rho'][:]\n",
    "    ps = file['ps'][:]\n",
    "    y_axis = file['y_axis'][:]\n",
    "    x_axis = file['x_axis'][:]\n",
    "    z_axis = file['z_axis'][:]\n",
    "    p_axis = file['p_axis'][:]\n",
    "\n",
    "nx = x_axis.shape[0]\n",
    "ny = y_axis.shape[0]\n",
    "nz = z_axis.shape[0]\n",
    "dy = np.diff(y_axis)[0]\n",
    "dx = np.diff(x_axis)[0]\n",
    "dz = np.diff(z_axis)[0]"
   ]
  },
  {
   "cell_type": "code",
   "execution_count": null,
   "id": "abb34510",
   "metadata": {},
   "outputs": [],
   "source": [
    "def density_profile(rho):\n",
    "    dx = cp*timestep*consts.light_velocity\n",
    "    sim_length = s*timestep*consts.light_velocity\n",
    "    x = np.arange(0,sim_length,dx)\n",
    "    dp = np.zeros_like(x)\n",
    "    for i,rho_ in enumerate(rho):\n",
    "        dp[i] = rho_[:,:,-20].mean()\n",
    "    return x,dp\n",
    "x,dp = density_profile(rho)\n",
    "\n",
    "plt.plot(x,dp)\n",
    "plt.xlabel('x (cm)')\n",
    "plt.ylabel('$n_e (1/cm^{3})$')\n",
    "plt.title('Denisty profile')"
   ]
  },
  {
   "cell_type": "code",
   "execution_count": null,
   "id": "47231d13",
   "metadata": {},
   "outputs": [],
   "source": [
    "from matplotlib.gridspec import GridSpec\n",
    "\n",
    "def radial_field(F,r,x_axis,y_axis):\n",
    "    dy = np.diff(y_axis)[0]\n",
    "    y_grid,x_grid = np.meshgrid(x_axis,y_axis)\n",
    "    r_grid = np.sqrt((y_grid**2 + x_grid**2))\n",
    "    r_mask = np.zeros_like(F)\n",
    "    r_mask = np.array(r_mask, dtype=bool)\n",
    "\n",
    "    out = np.zeros_like(F[0,ny//2:,:])\n",
    "    count = np.zeros_like(F[0,ny//2:,:])\n",
    "\n",
    "    for i in range(1,r.shape[0]):\n",
    "        r_mask.fill(False)\n",
    "        r_mask[r_grid<r[i-1],:] = True\n",
    "        r_mask[r_grid>r[i],:] = True\n",
    "        F_ = F.copy()\n",
    "        F_[r_mask] = 0\n",
    "        \n",
    "        \n",
    "        out[i-1,:]=F_.sum(0).sum(0)\n",
    "        r_mask = ~r_mask\n",
    "        count[i-1,:] =  r_mask.sum(0).sum(0)\n",
    "    return out/(count+1e-10)\n",
    "\n",
    "\n",
    "def radial_E_field(Fx,Fy,r,x_axis,y_axis,z_axis):\n",
    "    dy = np.diff(y_axis)[0]\n",
    "    x_grid,y_grid = np.meshgrid(x_axis,y_axis)\n",
    "    theta_grid = (np.arctan(y_grid/x_grid) + (1-np.sign(x_grid))*np.pi/2).T\n",
    "    Fr = np.zeros_like(Fx)\n",
    "    F_theta = np.zeros_like(Fy)\n",
    "\n",
    "    for i in range(Fx.shape[-1]):\n",
    "        Fr[:,:,i] = Fx[:,:,i]*np.cos(theta_grid) + Fy[:,:,i]*np.sin(theta_grid)\n",
    "        F_theta[:,:,i] = Fy[:,:,i]*np.cos(theta_grid) - Fx[:,:,i]*np.sin(theta_grid)\n",
    "    \n",
    "    return theta_grid, Fr, F_theta\n",
    "\n",
    "\n",
    "def interactive_plot(i):\n",
    "    fig = plt.figure(figsize=(8, 12))\n",
    "    gs = GridSpec(5, 2, width_ratios=[10, 1], height_ratios=[1, 1, 1, 1, 1])    \n",
    "    \n",
    "    ax = [fig.add_subplot(gs[0]),\n",
    "          fig.add_subplot(gs[2]),\n",
    "          fig.add_subplot(gs[4]),\n",
    "          fig.add_subplot(gs[6]),\n",
    "          fig.add_subplot(gs[8])]\n",
    "    \n",
    "    ax_bar = [fig.add_subplot(gs[1]),\n",
    "              fig.add_subplot(gs[3]),\n",
    "              fig.add_subplot(gs[5]),\n",
    "              fig.add_subplot(gs[7])]\n",
    "    for a in ax_bar:\n",
    "        a.axis('off')\n",
    "        \n",
    "    ax[0].set_title('Rho (1/cm³)')\n",
    "    im = ax[0].pcolormesh(z_grid,y_grid,rho[i,nx//2-3:nx//2+3,:,:].mean(0),cmap='Reds',vmin=0,vmax=n0*2)\n",
    "    ax[0].set_ylabel('Y-axis (cm)')\n",
    "    fig.colorbar(im, ax=ax_bar[0])\n",
    "\n",
    "    \n",
    "    ax[1].set_title('Ez')\n",
    "    ax[1].plot(z_axis,Ez[i,nx//2,nx//2+2,:])\n",
    "    ax[1].set_ylabel('Ez (StatV/cm)')        \n",
    "    \n",
    "    ax[2].set_title('Ez (statV/cm)')\n",
    "    im = ax[2].pcolormesh(z_grid,y_grid,Ez[i,nx//2,:,:],cmap='seismic',vmin=-1e7,vmax=1e7)\n",
    "    ax[2].set_ylabel('Y-axis (cm)')\n",
    "    fig.colorbar(im, ax=ax_bar[2])\n",
    "    \n",
    "    ax[3].set_title('E radial (statV/cm)')\n",
    "    r = y_axis[ny//2:]\n",
    "    theta_grid, Fr, F_theta = radial_E_field(Ex[i],Ey[i],r,x_axis,y_axis,z_axis)\n",
    "    Fr = radial_field(Fr,r,x_axis,y_axis)\n",
    "    im = ax[3].pcolormesh(z_grid[ny//2:,:],y_grid[ny//2:,:],Fr,cmap='seismic',vmin=-1e7,vmax=1e7)\n",
    "    ax[3].set_ylabel('Y-axis (cm)')\n",
    "    fig.colorbar(im, ax=ax_bar[3])\n",
    "\n",
    "    \n",
    "    ax[4].pcolormesh(ps_x_grid,ps_y_grid,ps[i,:,:],cmap='bone_r',vmin=0,vmax=n0*10)\n",
    "    ax[4].set_ylabel(r'$E_{kin}$ (MeV)')\n",
    "    ax[4].set_ylim(0,5)\n",
    "    ax[4].set_xlabel(r'$z_{window}$ (cm)')\n",
    "\n",
    "    plt.tight_layout()\n",
    "    plt.show()\n",
    "    \n",
    "\n",
    "me = consts.electron_mass\n",
    "c = consts.light_velocity\n",
    "Ek = (np.sqrt(1+p_axis**2/(me**2*c**2))-1)*me*c**2*624150907446.1*1e-6\n",
    "ps_x_grid,ps_y_grid = np.meshgrid(z_axis,Ek)\n",
    "    \n",
    "z_grid,y_grid = np.meshgrid(z_axis,y_axis)\n",
    "interact(interactive_plot, i=(0, ncp-1, 1))"
   ]
  },
  {
   "cell_type": "code",
   "execution_count": null,
   "id": "b33ee484",
   "metadata": {},
   "outputs": [],
   "source": [
    "co = 2.\n",
    "ind = np.where(Ek>co)[0][0]\n",
    "print(f'charge: {(ps[-1,ind:,:]*dy*dy*dz).sum()*1.602176634e-19*1e12:0.3} pC')"
   ]
  },
  {
   "cell_type": "markdown",
   "id": "547f65e7",
   "metadata": {},
   "source": [
    "## Limitations"
   ]
  },
  {
   "cell_type": "markdown",
   "id": "661b4df4",
   "metadata": {},
   "source": [
    "### dephasing"
   ]
  },
  {
   "cell_type": "markdown",
   "id": "043d4c71",
   "metadata": {},
   "source": [
    "The electrons will start to deaccelerate approx. when half a plasma wave is traveled. Assume electrons are traveling at the speed of light then: $(c-v_g)*2/\\lambda_p=c/L_D$ where $v_g=\\frac{d\\omega}{dk}=c\\sqrt{1-\\omega_p^{2}/\\omega^{2}}$ (from dispersion relation). \n",
    "--> \n",
    "$$\n",
    "L_d=\\frac{\\lambda_p/2}{1-\\sqrt{1-\\omega_p^{2}/\\omega^{2}}}\\approx\\frac{2\\pi c\\omega^{2}}{\\omega_p^{3}}\\sim n_0^{-3/2}\n",
    "$$\n",
    "since $W_{max}\\approx -qE_{max}L_d$ this length limits the maximum energy gain.\n",
    "\n",
    "In this specific case the dephasing length becomes: "
   ]
  },
  {
   "cell_type": "code",
   "execution_count": null,
   "id": "077d4cf6",
   "metadata": {},
   "outputs": [],
   "source": [
    "simulation_length = s*timestep*consts.light_velocity\n",
    "upramp = 0.3*0.01273239544735163\n",
    "density_drop = 0.3*0.01273239544735163\n",
    "end_of_plasma = 0.8*simulation_length \n",
    "\n",
    "print(f'Dephasing length: {2*np.pi*omega**2*consts.light_velocity/omega_p**3:0.2}'+'cm')\n",
    "print(f'Plateu length: {end_of_plasma-density_drop:0.2}'+'cm')\n"
   ]
  },
  {
   "cell_type": "markdown",
   "id": "060b3153",
   "metadata": {},
   "source": [
    "### Pump depleation "
   ]
  },
  {
   "cell_type": "markdown",
   "id": "66a5d571",
   "metadata": {},
   "source": [
    "To dirve the plasma wave energy is taken from the pulse and transformed int plasma motion - this drains the pulse of energy which will eventually run out. \n",
    "$L_{pd}\\approx\\frac{\\sqrt{2}a_0\\lambda^{3}_{p}}{\\lambda^{2}\\pi}\\sim n_0^{-3/2}$ for a flat-top pulse and $a_0>>1$\n",
    "\n",
    "--> on the same order as dephasing length"
   ]
  },
  {
   "cell_type": "markdown",
   "id": "68c08e95",
   "metadata": {},
   "source": [
    "### Beamloading"
   ]
  },
  {
   "cell_type": "markdown",
   "id": "ce7e20f3",
   "metadata": {},
   "source": [
    "The interplay between the field created by the injected charge and the pulse - depends on the injected distribution in space and time as well as the shape of the wakefield."
   ]
  },
  {
   "cell_type": "markdown",
   "id": "93166777",
   "metadata": {},
   "source": [
    "### Diffraction of the laser"
   ]
  },
  {
   "cell_type": "markdown",
   "id": "14ab1848",
   "metadata": {},
   "source": [
    "On the order of the Rayleigh length ($z_r = \\pi*w_0^{2}/\\lambda$) - some self focusing. With guiding channels diffraction can be mitigated for several rayleigh lengths. \n",
    "\n",
    "Current record of 7.8 GeV used guiding channels to confine the pulse to 15 rayleigh lengths.\n",
    "https://journals.aps.org/prl/pdf/10.1103/PhysRevLett.122.084801\n"
   ]
  },
  {
   "cell_type": "code",
   "execution_count": null,
   "id": "12bfe182",
   "metadata": {},
   "outputs": [],
   "source": [
    "Zr = np.pi*spotsize**2/wl\n",
    "print(f'Rayleigh length: {Zr:0.2}'+'cm')"
   ]
  }
 ],
 "metadata": {
  "kernelspec": {
   "display_name": "Python 3 (ipykernel)",
   "language": "python",
   "name": "python3"
  },
  "language_info": {
   "codemirror_mode": {
    "name": "ipython",
    "version": 3
   },
   "file_extension": ".py",
   "mimetype": "text/x-python",
   "name": "python",
   "nbconvert_exporter": "python",
   "pygments_lexer": "ipython3",
   "version": "3.9.16"
  }
 },
 "nbformat": 4,
 "nbformat_minor": 5
}
